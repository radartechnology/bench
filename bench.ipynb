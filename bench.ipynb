{
 "cells": [
  {
   "cell_type": "code",
   "id": "initial_id",
   "metadata": {
    "collapsed": true,
    "ExecuteTime": {
     "end_time": "2024-10-05T23:05:54.780108Z",
     "start_time": "2024-10-05T23:05:54.746113Z"
    }
   },
   "source": [
    "import pandas as pd\n",
    "from scipy import stats\n",
    "\n",
    "low = pd.read_csv('1920x1080.csv')\n",
    "high = pd.read_csv('3840x2160.CSV')\n",
    "\n",
    "p_values = high.apply(lambda col: stats.ttest_ind(low[col.name], col, equal_var=False, alternative='greater').pvalue)\n",
    "\n",
    "significance_level = 0.05\n",
    "significant = p_values < significance_level\n",
    "\n",
    "results = pd.DataFrame({\n",
    "    'p value < 0.05': significant\n",
    "})\n",
    "\n",
    "print(results)"
   ],
   "outputs": [
    {
     "name": "stdout",
     "output_type": "stream",
     "text": [
      "                        p value < 0.05\n",
      "FPS                              False\n",
      "99.% FPS                          True\n",
      "STUTTER RATE                     False\n",
      "GPU-AUSLASTUNG                   False\n",
      "GPU-SCLK                         False\n",
      "GPU-LEISTUNG                     False\n",
      "GPU-TEMP.                        False\n",
      "GPU-HOTSPOT-TEMP                 False\n",
      "GPU-LÜFTER                       False\n",
      "GPU VRAM AUSLASTUNG              False\n",
      "GPU-MCLK                         False\n",
      "CPU-AUSLASTUNG                   False\n",
      "CPU-TAKTRATE                     False\n",
      "CPU-SPANNUNG                      True\n",
      "CPU-TEMPERATUR                   False\n",
      "CPU-ENERGIEVERBRAUCH             False\n",
      "CPU-EDC                          False\n",
      "CPU-TDC                          False\n",
      "SYSTEM VRAM AUSLASTUNG           False\n"
     ]
    }
   ],
   "execution_count": 14
  },
  {
   "metadata": {},
   "cell_type": "code",
   "outputs": [],
   "execution_count": null,
   "source": "",
   "id": "d459349616056204"
  }
 ],
 "metadata": {
  "kernelspec": {
   "display_name": "Python 3",
   "language": "python",
   "name": "python3"
  },
  "language_info": {
   "codemirror_mode": {
    "name": "ipython",
    "version": 2
   },
   "file_extension": ".py",
   "mimetype": "text/x-python",
   "name": "python",
   "nbconvert_exporter": "python",
   "pygments_lexer": "ipython2",
   "version": "2.7.6"
  }
 },
 "nbformat": 4,
 "nbformat_minor": 5
}
